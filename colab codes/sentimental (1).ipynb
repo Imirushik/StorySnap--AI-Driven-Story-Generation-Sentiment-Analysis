{
  "nbformat": 4,
  "nbformat_minor": 0,
  "metadata": {
    "colab": {
      "provenance": []
    },
    "kernelspec": {
      "name": "python3",
      "display_name": "Python 3"
    },
    "language_info": {
      "name": "python"
    }
  },
  "cells": [
    {
      "cell_type": "code",
      "execution_count": null,
      "metadata": {
        "colab": {
          "base_uri": "https://localhost:8080/"
        },
        "id": "BEkcd8CISqFf",
        "outputId": "04d8e26b-e52e-413a-f224-e0e35a5238dc"
      },
      "outputs": [
        {
          "output_type": "stream",
          "name": "stdout",
          "text": [
            "Mounted at /content/drive\n",
            "                                              review sentiment\n",
            "0  One of the other reviewers has mentioned that ...  positive\n",
            "1  A wonderful little production. <br /><br />The...  positive\n",
            "2  I thought this was a wonderful way to spend ti...  positive\n",
            "3  Basically there's a family where a little boy ...  negative\n",
            "4  Petter Mattei's \"Love in the Time of Money\" is...  positive\n",
            "review       0\n",
            "sentiment    0\n",
            "dtype: int64\n",
            "sentiment\n",
            "positive    25000\n",
            "negative    25000\n",
            "Name: count, dtype: int64\n"
          ]
        }
      ],
      "source": [
        "from google.colab import drive\n",
        "import pandas as pd\n",
        "\n",
        "# Mount Google Drive\n",
        "drive.mount('/content/drive')\n",
        "\n",
        "# Provide the correct file path (modify it based on your folder structure)\n",
        "file_path = '/content/drive/My Drive/IMDB Dataset.csv'\n",
        "\n",
        "# Load the dataset\n",
        "df = pd.read_csv(file_path)\n",
        "\n",
        "# Display the first few rows\n",
        "print(df.head())\n",
        "\n",
        "# Check for missing values\n",
        "print(df.isnull().sum())\n",
        "\n",
        "# Check data distribution\n",
        "print(df['sentiment'].value_counts())\n"
      ]
    },
    {
      "cell_type": "code",
      "source": [
        "\n",
        "# Summary of dataset\n",
        "print(\"Dataset Summary:\\n\", df.describe())\n",
        "\n",
        "# Check dataset information\n",
        "print(\"\\nDataset Info:\")\n",
        "print(df.info())\n",
        "\n",
        "# Count of each sentiment category\n",
        "print(\"\\nSentiment Distribution:\")\n",
        "print(df['sentiment'].value_counts())\n"
      ],
      "metadata": {
        "colab": {
          "base_uri": "https://localhost:8080/"
        },
        "id": "Z5yjYG_xTdDw",
        "outputId": "e7e5ea85-fb75-42a8-f3f5-1ad723125e1c"
      },
      "execution_count": null,
      "outputs": [
        {
          "output_type": "stream",
          "name": "stdout",
          "text": [
            "Dataset Summary:\n",
            "                                                    review sentiment\n",
            "count                                               50000     50000\n",
            "unique                                              49582         2\n",
            "top     Loved today's show!!! It was a variety and not...  positive\n",
            "freq                                                    5     25000\n",
            "\n",
            "Dataset Info:\n",
            "<class 'pandas.core.frame.DataFrame'>\n",
            "RangeIndex: 50000 entries, 0 to 49999\n",
            "Data columns (total 2 columns):\n",
            " #   Column     Non-Null Count  Dtype \n",
            "---  ------     --------------  ----- \n",
            " 0   review     50000 non-null  object\n",
            " 1   sentiment  50000 non-null  object\n",
            "dtypes: object(2)\n",
            "memory usage: 781.4+ KB\n",
            "None\n",
            "\n",
            "Sentiment Distribution:\n",
            "sentiment\n",
            "positive    25000\n",
            "negative    25000\n",
            "Name: count, dtype: int64\n"
          ]
        }
      ]
    },
    {
      "cell_type": "code",
      "source": [
        "import re\n",
        "from bs4 import BeautifulSoup\n",
        "\n",
        "def clean_text(text):\n",
        "    # Remove HTML tags\n",
        "    text = BeautifulSoup(text, \"html.parser\").get_text()\n",
        "\n",
        "    # Remove special characters and numbers\n",
        "    text = re.sub(r'[^a-zA-Z]', ' ', text)\n",
        "\n",
        "    # Convert to lowercase\n",
        "    text = text.lower()\n",
        "\n",
        "    return text\n",
        "\n",
        "# Apply the cleaning function\n",
        "df['cleaned_review'] = df['review'].apply(clean_text)\n",
        "\n",
        "# Display first 5 cleaned reviews\n",
        "print(df[['review', 'cleaned_review']].head())\n"
      ],
      "metadata": {
        "colab": {
          "base_uri": "https://localhost:8080/"
        },
        "id": "PqoSJVO7U674",
        "outputId": "c50d1f84-7591-498a-d7f5-64d1491623f6"
      },
      "execution_count": null,
      "outputs": [
        {
          "output_type": "stream",
          "name": "stdout",
          "text": [
            "                                              review  \\\n",
            "0  One of the other reviewers has mentioned that ...   \n",
            "1  A wonderful little production. <br /><br />The...   \n",
            "2  I thought this was a wonderful way to spend ti...   \n",
            "3  Basically there's a family where a little boy ...   \n",
            "4  Petter Mattei's \"Love in the Time of Money\" is...   \n",
            "\n",
            "                                      cleaned_review  \n",
            "0  one of the other reviewers has mentioned that ...  \n",
            "1  a wonderful little production  the filming tec...  \n",
            "2  i thought this was a wonderful way to spend ti...  \n",
            "3  basically there s a family where a little boy ...  \n",
            "4  petter mattei s  love in the time of money  is...  \n"
          ]
        }
      ]
    },
    {
      "cell_type": "code",
      "source": [
        "import nltk\n",
        "from nltk.corpus import stopwords\n",
        "from nltk.tokenize import word_tokenize\n",
        "\n",
        "# Download required NLTK data\n",
        "nltk.download('punkt_tab')  # Updated tokenizer resource\n",
        "nltk.download('stopwords')\n",
        "nltk.download('wordnet')\n",
        "\n",
        "stop_words = set(stopwords.words('english'))\n",
        "\n",
        "def remove_stopwords_and_tokenize(text):\n",
        "    words = word_tokenize(text)  # Tokenize text\n",
        "    words = [word for word in words if word not in stop_words]  # Remove stopwords\n",
        "    return words\n",
        "\n",
        "# Apply stopword removal and tokenization\n",
        "df['tokenized_review'] = df['cleaned_review'].apply(remove_stopwords_and_tokenize)\n",
        "\n",
        "# Display first 5 tokenized reviews\n",
        "print(df[['cleaned_review', 'tokenized_review']].head())\n"
      ],
      "metadata": {
        "colab": {
          "base_uri": "https://localhost:8080/"
        },
        "id": "Vme3SGAUU6z6",
        "outputId": "e5a02cfa-35cb-4cc5-ffaa-bc00a1a9aaea"
      },
      "execution_count": null,
      "outputs": [
        {
          "output_type": "stream",
          "name": "stderr",
          "text": [
            "[nltk_data] Downloading package punkt_tab to /root/nltk_data...\n",
            "[nltk_data]   Unzipping tokenizers/punkt_tab.zip.\n",
            "[nltk_data] Downloading package stopwords to /root/nltk_data...\n",
            "[nltk_data]   Package stopwords is already up-to-date!\n",
            "[nltk_data] Downloading package wordnet to /root/nltk_data...\n"
          ]
        },
        {
          "output_type": "stream",
          "name": "stdout",
          "text": [
            "                                      cleaned_review  \\\n",
            "0  one of the other reviewers has mentioned that ...   \n",
            "1  a wonderful little production  the filming tec...   \n",
            "2  i thought this was a wonderful way to spend ti...   \n",
            "3  basically there s a family where a little boy ...   \n",
            "4  petter mattei s  love in the time of money  is...   \n",
            "\n",
            "                                    tokenized_review  \n",
            "0  [one, reviewers, mentioned, watching, oz, epis...  \n",
            "1  [wonderful, little, production, filming, techn...  \n",
            "2  [thought, wonderful, way, spend, time, hot, su...  \n",
            "3  [basically, family, little, boy, jake, thinks,...  \n",
            "4  [petter, mattei, love, time, money, visually, ...  \n"
          ]
        }
      ]
    },
    {
      "cell_type": "code",
      "source": [
        "from nltk.stem import PorterStemmer\n",
        "\n",
        "stemmer = PorterStemmer()\n",
        "\n",
        "def stem_words(words):\n",
        "    return [stemmer.stem(word) for word in words]\n",
        "\n",
        "# Apply stemming\n",
        "df['stemmed_review'] = df['tokenized_review'].apply(stem_words)\n",
        "\n",
        "# Display first 5 stemmed reviews\n",
        "print(df[['tokenized_review', 'stemmed_review']].head())\n"
      ],
      "metadata": {
        "colab": {
          "base_uri": "https://localhost:8080/"
        },
        "id": "p463Jle_W8wo",
        "outputId": "88086468-7371-43bd-a288-19485b3f7639"
      },
      "execution_count": null,
      "outputs": [
        {
          "output_type": "stream",
          "name": "stdout",
          "text": [
            "                                    tokenized_review  \\\n",
            "0  [one, reviewers, mentioned, watching, oz, epis...   \n",
            "1  [wonderful, little, production, filming, techn...   \n",
            "2  [thought, wonderful, way, spend, time, hot, su...   \n",
            "3  [basically, family, little, boy, jake, thinks,...   \n",
            "4  [petter, mattei, love, time, money, visually, ...   \n",
            "\n",
            "                                      stemmed_review  \n",
            "0  [one, review, mention, watch, oz, episod, hook...  \n",
            "1  [wonder, littl, product, film, techniqu, unass...  \n",
            "2  [thought, wonder, way, spend, time, hot, summe...  \n",
            "3  [basic, famili, littl, boy, jake, think, zombi...  \n",
            "4  [petter, mattei, love, time, money, visual, st...  \n"
          ]
        }
      ]
    },
    {
      "cell_type": "code",
      "source": [
        "from sklearn.feature_extraction.text import TfidfVectorizer\n",
        "\n",
        "# Convert stemmed reviews back to text format\n",
        "df['stemmed_review_text'] = df['stemmed_review'].apply(lambda x: ' '.join(x))\n",
        "\n",
        "# Initialize TF-IDF Vectorizer\n",
        "tfidf = TfidfVectorizer(max_features=5000)  # Limiting features to 5000 for efficiency\n",
        "\n",
        "# Apply TF-IDF transformation\n",
        "X_tfidf = tfidf.fit_transform(df['stemmed_review_text'])\n",
        "\n",
        "# Display shape of TF-IDF matrix\n",
        "print(\"TF-IDF Matrix Shape:\", X_tfidf.shape)\n"
      ],
      "metadata": {
        "colab": {
          "base_uri": "https://localhost:8080/"
        },
        "id": "HG00RPzbXXXR",
        "outputId": "39446b2e-5819-45c1-9175-4f8dac22cb44"
      },
      "execution_count": null,
      "outputs": [
        {
          "output_type": "stream",
          "name": "stdout",
          "text": [
            "TF-IDF Matrix Shape: (50000, 5000)\n"
          ]
        }
      ]
    },
    {
      "cell_type": "code",
      "source": [
        "from sklearn.preprocessing import LabelEncoder\n",
        "\n",
        "# Initialize Label Encoder\n",
        "label_encoder = LabelEncoder()\n",
        "\n",
        "# Transform sentiment labels\n",
        "df['sentiment_label'] = label_encoder.fit_transform(df['sentiment'])\n",
        "\n",
        "# Display first 5 encoded sentiment labels\n",
        "print(df[['sentiment', 'sentiment_label']].head())\n"
      ],
      "metadata": {
        "colab": {
          "base_uri": "https://localhost:8080/"
        },
        "id": "j7FZR6BfXpdR",
        "outputId": "af5b3185-2449-4fc3-bae5-e2d0342c4cf2"
      },
      "execution_count": null,
      "outputs": [
        {
          "output_type": "stream",
          "name": "stdout",
          "text": [
            "  sentiment  sentiment_label\n",
            "0  positive                1\n",
            "1  positive                1\n",
            "2  positive                1\n",
            "3  negative                0\n",
            "4  positive                1\n"
          ]
        }
      ]
    },
    {
      "cell_type": "code",
      "source": [
        "from sklearn.model_selection import train_test_split\n",
        "\n",
        "# Define features (X) and target labels (y)\n",
        "X = X_tfidf\n",
        "y = df['sentiment_label']\n",
        "\n",
        "# Split into 80% training and 20% testing\n",
        "X_train, X_test, y_train, y_test = train_test_split(X, y, test_size=0.2, random_state=42, stratify=y)\n",
        "\n",
        "# Display dataset sizes\n",
        "print(\"Training set size:\", X_train.shape)\n",
        "print(\"Testing set size:\", X_test.shape)\n"
      ],
      "metadata": {
        "colab": {
          "base_uri": "https://localhost:8080/"
        },
        "id": "7QPO3DoAXxtR",
        "outputId": "fa807a95-7676-4b2d-c81d-b5a4def6ac12"
      },
      "execution_count": null,
      "outputs": [
        {
          "output_type": "stream",
          "name": "stdout",
          "text": [
            "Training set size: (40000, 5000)\n",
            "Testing set size: (10000, 5000)\n"
          ]
        }
      ]
    },
    {
      "cell_type": "code",
      "source": [
        "from sklearn.linear_model import LogisticRegression\n",
        "\n",
        "# Initialize Logistic Regression model\n",
        "log_reg = LogisticRegression(solver='liblinear', random_state=42)\n",
        "\n",
        "# Train the model\n",
        "log_reg.fit(X_train, y_train)\n",
        "\n",
        "# Display training completion message\n",
        "print(\"Model training complete! ✅\")\n"
      ],
      "metadata": {
        "colab": {
          "base_uri": "https://localhost:8080/"
        },
        "id": "Db0Dv8qbX9N6",
        "outputId": "a36c16af-8944-4b45-d268-e234e36e283a"
      },
      "execution_count": null,
      "outputs": [
        {
          "output_type": "stream",
          "name": "stdout",
          "text": [
            "Model training complete! ✅\n"
          ]
        }
      ]
    },
    {
      "cell_type": "code",
      "source": [
        "# Predict on training data\n",
        "train_predictions = log_reg.predict(X_train)\n",
        "train_accuracy = accuracy_score(y_train, train_predictions)\n",
        "\n",
        "# Predict on testing data\n",
        "test_predictions = log_reg.predict(X_test)\n",
        "test_accuracy = accuracy_score(y_test, test_predictions)\n",
        "\n",
        "# Print results\n",
        "print(f\"Training Accuracy: {train_accuracy:.4f}\")\n",
        "print(f\"Testing Accuracy: {test_accuracy:.4f}\")\n"
      ],
      "metadata": {
        "colab": {
          "base_uri": "https://localhost:8080/"
        },
        "id": "eM_LbOrEYINI",
        "outputId": "9da0db02-6d8c-4d37-c16d-7bb434fec94e"
      },
      "execution_count": null,
      "outputs": [
        {
          "output_type": "stream",
          "name": "stdout",
          "text": [
            "Training Accuracy: 0.9092\n",
            "Testing Accuracy: 0.8884\n"
          ]
        }
      ]
    },
    {
      "cell_type": "code",
      "source": [
        "import joblib\n",
        "\n",
        "# Save the trained model\n",
        "joblib.dump(log_reg, \"sentiment_model.pkl\")\n",
        "# Save the trained TF-IDF vectorizer correctly\n",
        "joblib.dump(tfidf, \"tfidf_vectorizer.pkl\")\n"
      ],
      "metadata": {
        "colab": {
          "base_uri": "https://localhost:8080/"
        },
        "id": "FsmIp61EargV",
        "outputId": "e5f604e5-8a98-40f2-c3d1-806ba09b1738"
      },
      "execution_count": null,
      "outputs": [
        {
          "output_type": "execute_result",
          "data": {
            "text/plain": [
              "['tfidf_vectorizer.pkl']"
            ]
          },
          "metadata": {},
          "execution_count": 18
        }
      ]
    }
  ]
}